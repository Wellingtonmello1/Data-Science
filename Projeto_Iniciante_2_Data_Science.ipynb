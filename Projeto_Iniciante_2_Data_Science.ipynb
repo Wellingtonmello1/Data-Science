{
  "nbformat": 4,
  "nbformat_minor": 0,
  "metadata": {
    "colab": {
      "provenance": []
    },
    "kernelspec": {
      "name": "python3",
      "display_name": "Python 3"
    },
    "language_info": {
      "name": "python"
    }
  },
  "cells": [
    {
      "cell_type": "markdown",
      "source": [
        "**Escreva um programa que peça à pessoa usuária para fornecer dois números e exibir o número maior.**"
      ],
      "metadata": {
        "id": "l9sA5iaeZIwi"
      }
    },
    {
      "cell_type": "code",
      "execution_count": 4,
      "metadata": {
        "colab": {
          "base_uri": "https://localhost:8080/"
        },
        "id": "NQ4132OpYWEY",
        "outputId": "a8a4825b-f699-4780-fc22-35644a70cc39"
      },
      "outputs": [
        {
          "output_type": "stream",
          "name": "stdout",
          "text": [
            "Digite o primeiro número: 3\n",
            "Digite o segundo número: 2\n",
            "O número maior é 3\n"
          ]
        }
      ],
      "source": [
        "input_1 = int(input(\"Digite o primeiro número: \"))\n",
        "input_2 = int(input(\"Digite o segundo número: \"))\n",
        "\n",
        "if input_1 > input_2:\n",
        "  print(f\"O número maior é {input_1}\")\n",
        "else:\n",
        "  print(f\"O número maior é {input_2}\")"
      ]
    },
    {
      "cell_type": "markdown",
      "source": [
        "**Escreva um programa que solicite o percentual de crescimento de produção de uma empresa e informe se houve um crescimento (porcentagem positiva) ou decrescimento (porcentagem negativa).**"
      ],
      "metadata": {
        "id": "wVc1jItMZ_7S"
      }
    },
    {
      "cell_type": "code",
      "source": [
        "percentual_crescimento = float(input(\"Digite o percentual de crescimento da produção: \"))\n",
        "\n",
        "if percentual_crescimento > 0:\n",
        "  print(\"Houve um crescimento na produção.\")\n",
        "elif percentual_crescimento < 0:\n",
        "  print(\"Houve um decrescimento na produção.\")\n",
        "else:\n",
        "  print(\"A produção permaneceu estável.\")\n"
      ],
      "metadata": {
        "colab": {
          "base_uri": "https://localhost:8080/"
        },
        "id": "GfQl2xi3ZWSe",
        "outputId": "409afb89-ce01-48c7-8cf4-fab7b89f4912"
      },
      "execution_count": 5,
      "outputs": [
        {
          "output_type": "stream",
          "name": "stdout",
          "text": [
            "Digite o percentual de crescimento da produção: 3\n",
            "Houve um crescimento na produção.\n"
          ]
        }
      ]
    },
    {
      "cell_type": "markdown",
      "source": [
        "**Escreva um programa que determine se uma letra fornecida pela pessoa usuária é uma vogal ou consoante.**"
      ],
      "metadata": {
        "id": "gdNaxN7eb6mb"
      }
    },
    {
      "cell_type": "code",
      "source": [
        "Vogal = \"aeiouAEIOU\"\n",
        "letra = input(\"Digite uma letra: \")\n",
        "\n",
        "if letra in Vogal:\n",
        "  print(\"A letra é uma vogal.\")\n",
        "else:\n",
        "  print(\"A letra é uma consoante.\")"
      ],
      "metadata": {
        "colab": {
          "base_uri": "https://localhost:8080/"
        },
        "id": "nxBsZLe9atgZ",
        "outputId": "fa269249-8ee3-4deb-8a95-4abaac2ddfb0"
      },
      "execution_count": 11,
      "outputs": [
        {
          "output_type": "stream",
          "name": "stdout",
          "text": [
            "Digite uma letra: a\n",
            "A letra é uma vogal.\n"
          ]
        }
      ]
    },
    {
      "cell_type": "markdown",
      "source": [
        "**Escreva um programa que leia valores médios de preços de um modelo de carro por 3 anos consecutivos e exiba o valor mais alto e mais baixo entre esses três anos.**"
      ],
      "metadata": {
        "id": "4yS3xc_ucHub"
      }
    },
    {
      "cell_type": "code",
      "source": [
        "preco_ano1 = float(input(\"Digite o preço médio do carro no ano 1: \"))\n",
        "preco_ano2 = float(input(\"Digite o preço médio do carro no ano 2: \"))\n",
        "preco_ano3 = float(input(\"Digite o preço médio do carro no ano 3: \"))\n",
        "\n",
        "preco_mais_alto = max(preco_ano1, preco_ano2, preco_ano3)\n",
        "preco_mais_baixo = min(preco_ano1, preco_ano2, preco_ano3)\n",
        "\n",
        "print(f\"O preço mais alto foi: {preco_mais_alto}\")\n",
        "print(f\"O preço mais baixo foi: {preco_mais_baixo}\")\n"
      ],
      "metadata": {
        "colab": {
          "base_uri": "https://localhost:8080/"
        },
        "id": "_hoCTiHhcDQ0",
        "outputId": "0e6a32ff-48f6-4dd4-dfe4-7171104d0570"
      },
      "execution_count": 7,
      "outputs": [
        {
          "output_type": "stream",
          "name": "stdout",
          "text": [
            "Digite o preço médio do carro no ano 1: 2\n",
            "Digite o preço médio do carro no ano 2: 9\n",
            "Digite o preço médio do carro no ano 3: 7\n",
            "O preço mais alto foi: 9.0\n",
            "O preço mais baixo foi: 2.0\n"
          ]
        }
      ]
    },
    {
      "cell_type": "markdown",
      "source": [
        "**Escreva um programa que pergunte sobre o preço de três produtos e indique qual é o produto mais barato para comprar.**"
      ],
      "metadata": {
        "id": "gdW9sACacal0"
      }
    },
    {
      "cell_type": "code",
      "source": [
        "input_1 = float(input(\"Digite o preço do primeiro produto: \"))\n",
        "input_2 = float(input(\"Digite o preço do segundo produto: \"))\n",
        "input_3 = float(input(\"Digite o preço do terceiro produto: \"))\n",
        "\n",
        "if input_1 < input_2 and input_1 < input_3:\n",
        "  print(\"O primeiro produto é o mais barato.\")\n",
        "elif input_2 < input_1 and input_2 < input_3:\n",
        "  print(\"O segundo produto é o mais barato.\")\n",
        "else:\n",
        "  print(\"O terceiro produto é o mais barato.\")"
      ],
      "metadata": {
        "colab": {
          "base_uri": "https://localhost:8080/"
        },
        "id": "Cx7E8TPIcSDj",
        "outputId": "083d3225-dbbd-4484-cc98-0eb958afb961"
      },
      "execution_count": 8,
      "outputs": [
        {
          "output_type": "stream",
          "name": "stdout",
          "text": [
            "Digite o preço do primeiro produto: 2\n",
            "Digite o preço do segundo produto: 1\n",
            "Digite o preço do terceiro produto: 4\n",
            "O segundo produto é o mais barato.\n"
          ]
        }
      ]
    },
    {
      "cell_type": "markdown",
      "source": [
        "**Escreva um programa que leia três números e os exiba em ordem decrescente.**"
      ],
      "metadata": {
        "id": "uLTPmRu2dQCn"
      }
    },
    {
      "cell_type": "code",
      "source": [
        "input_1 = float(input(\"Digite o primeiro número: \"))\n",
        "input_2 = float(input(\"Digite o segundo número: \"))\n",
        "input_3 = float(input(\"Digite o terceiro número: \"))\n",
        "\n",
        "numeros = [input_1, input_2, input_3]\n",
        "numeros.sort(reverse=True)\n",
        "\n",
        "print(numeros)\n"
      ],
      "metadata": {
        "colab": {
          "base_uri": "https://localhost:8080/"
        },
        "id": "2XRwnWShcts5",
        "outputId": "3fdef813-09f0-4551-ef0e-fd1135259453"
      },
      "execution_count": 10,
      "outputs": [
        {
          "output_type": "stream",
          "name": "stdout",
          "text": [
            "Digite o primeiro número: 24\n",
            "Digite o segundo número: 123\n",
            "Digite o terceiro número: 3415\n",
            "[3415.0, 123.0, 24.0]\n"
          ]
        }
      ]
    },
    {
      "cell_type": "markdown",
      "source": [
        "**Escreva um programa que pergunte em qual turno a pessoa usuária estuda (\"manhã\", \"tarde\" ou \"noite\") e exiba a mensagem \"Bom Dia!\", \"Boa Tarde!\", \"Boa Noite!\", ou \"Valor Inválido!\", conforme o caso.**"
      ],
      "metadata": {
        "id": "wBkWm-H3djHL"
      }
    },
    {
      "cell_type": "code",
      "source": [
        "Manha = 'Bom dia!'\n",
        "Tarde = 'Boa tarde!'\n",
        "Noite = 'Boa noite'\n",
        "\n",
        "turno = input(\"Em qual turno você estuda? (manhã, tarde ou noite) \")\n",
        "\n",
        "if turno == 'manhã':\n",
        "  print(Manha)\n",
        "elif turno == 'tarde':\n",
        "  print(Tarde)\n",
        "elif turno == 'noite':\n",
        "  print(Noite)\n",
        "else:\n",
        "  print(\"Valor inválido!\")\n"
      ],
      "metadata": {
        "colab": {
          "base_uri": "https://localhost:8080/"
        },
        "id": "Y7-2uEQFdU2Z",
        "outputId": "0fb8afb1-fbe0-43c6-c8b8-217d8a487bcd"
      },
      "execution_count": 13,
      "outputs": [
        {
          "output_type": "stream",
          "name": "stdout",
          "text": [
            "Em qual turno você estuda? (manhã, tarde ou noite) manhã\n",
            "Bom dia!\n"
          ]
        }
      ]
    },
    {
      "cell_type": "markdown",
      "source": [
        "**Escreva um programa que peça um número inteiro à pessoa usuária e determine se ele é par ou ímpar. Dica: Você pode utilizar o operador módulo %.**"
      ],
      "metadata": {
        "id": "0uce-EF1ebMy"
      }
    },
    {
      "cell_type": "code",
      "source": [
        "numero_inteiro = int(input(\"Escreva o numero: \"))\n",
        "\n",
        "if numero_inteiro % 2 == 0:\n",
        "  print(\"O número é par.\")\n",
        "else:\n",
        "  print(\"O número é ímpar.\")"
      ],
      "metadata": {
        "colab": {
          "base_uri": "https://localhost:8080/"
        },
        "id": "XtdPijQCeImR",
        "outputId": "fcb53e7e-2bf3-4b33-e0ac-a27616f26f9d"
      },
      "execution_count": 15,
      "outputs": [
        {
          "output_type": "stream",
          "name": "stdout",
          "text": [
            "Escreva o numero: 2\n",
            "O número é par.\n"
          ]
        }
      ]
    },
    {
      "cell_type": "markdown",
      "source": [
        "**Escreva um programa que peça um número à pessoa usuária e informe se ele é inteiro ou decimal.**"
      ],
      "metadata": {
        "id": "U9nbinGoe8Fh"
      }
    },
    {
      "cell_type": "code",
      "source": [
        "input_1 = float(input(\"Digite um número: \"))\n",
        "\n",
        "if input_1 == int(input_1):\n",
        "  print(\"O número é inteiro.\")\n",
        "else:\n",
        "  print(\"O número é decimal.\")"
      ],
      "metadata": {
        "colab": {
          "base_uri": "https://localhost:8080/"
        },
        "id": "WJNCWEvBev2j",
        "outputId": "ce3a9165-9547-4bf1-89c4-bb2c7002f360"
      },
      "execution_count": 16,
      "outputs": [
        {
          "output_type": "stream",
          "name": "stdout",
          "text": [
            "Digite um número: 3.3\n",
            "O número é decimal.\n"
          ]
        }
      ]
    },
    {
      "cell_type": "markdown",
      "source": [
        "**Um programa deve ser escrito para ler dois números e, em seguida, perguntar à pessoa usuária qual operação ele deseja realizar. O resultado da operação deve incluir informações sobre o número - se é par ou ímpar, positivo ou negativo e inteiro ou decimal.**"
      ],
      "metadata": {
        "id": "gkGvtQsOfyQ4"
      }
    },
    {
      "cell_type": "code",
      "source": [
        "input_1 = float(input(\"Digite o primeiro número: \"))\n",
        "input_2 = float(input(\"Digite o segundo número: \"))\n",
        "operacao = input(\"Digite a operação que deseja realizar: \")\n",
        "\n",
        "if operacao == '+':\n",
        "  resultado = input_1 + input_2\n",
        "elif operacao == '-':\n",
        "  resultado = input_1 - input_2\n",
        "elif operacao == '*':\n",
        "  resultado = input_1 * input_2\n",
        "elif operacao == '/':\n",
        "  resultado = input_1 / input_2\n",
        "if resultado % 2 == 0:\n",
        "  print(\"O resultado é par.\")\n",
        "else:\n",
        "  print(\"O resultado é ímpar.\")\n",
        ""
      ],
      "metadata": {
        "colab": {
          "base_uri": "https://localhost:8080/"
        },
        "id": "Wys-vsLIfCcF",
        "outputId": "094fcfe2-c15e-4f38-f6c9-4e54fca24781"
      },
      "execution_count": 20,
      "outputs": [
        {
          "output_type": "stream",
          "name": "stdout",
          "text": [
            "Digite o primeiro número: 3\n",
            "Digite o segundo número: 34\n",
            "Digite a operação que deseja realizar: +\n",
            "O resultado é ímpar.\n"
          ]
        }
      ]
    }
  ]
}