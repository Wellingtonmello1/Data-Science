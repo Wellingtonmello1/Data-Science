{
  "nbformat": 4,
  "nbformat_minor": 0,
  "metadata": {
    "colab": {
      "provenance": []
    },
    "kernelspec": {
      "name": "python3",
      "display_name": "Python 3"
    },
    "language_info": {
      "name": "python"
    }
  },
  "cells": [
    {
      "cell_type": "markdown",
      "source": [
        "Cinco pessoas trabalham como seguranças e recebem um salário de 3 mil reais. Dezesseis pessoas trabalham como docentes e recebem um salário de 6 mil reais. Por fim, temos uma pessoa que trabalha na diretoria e seu salário é de 12 mil e 500 reais.\n",
        "\n",
        "Precisamos trabalhar com esses dados fornecendo:\n",
        "\n",
        "A quantidade total de empregados;\n",
        "A diferença entre o salário mais baixo e mais alto;\n",
        "A média ponderada da faixa salarial da escola.\n"
      ],
      "metadata": {
        "id": "5wejYLLpGQ7N"
      }
    },
    {
      "cell_type": "code",
      "source": [
        "q_seguranca = 5\n",
        "s_seguranca = 3000\n",
        "\n",
        "q_docente = 16\n",
        "s_docente = 6000\n",
        "\n",
        "q_diretoria = 1\n",
        "s_diretoria = 12500"
      ],
      "metadata": {
        "id": "IdL1YX8yGbpW"
      },
      "execution_count": null,
      "outputs": []
    },
    {
      "cell_type": "code",
      "source": [
        "total_empregados = q_seguranca + q_docente + q_diretoria\n",
        "total_empregados"
      ],
      "metadata": {
        "colab": {
          "base_uri": "https://localhost:8080/"
        },
        "id": "KPoLRooTGj4l",
        "outputId": "8da1b69c-7365-4587-aa23-472167b89f50"
      },
      "execution_count": null,
      "outputs": [
        {
          "output_type": "execute_result",
          "data": {
            "text/plain": [
              "22"
            ]
          },
          "metadata": {},
          "execution_count": 2
        }
      ]
    },
    {
      "cell_type": "code",
      "source": [
        "diferenca_salario = s_diretoria - s_seguranca\n",
        "diferenca_salario"
      ],
      "metadata": {
        "colab": {
          "base_uri": "https://localhost:8080/"
        },
        "id": "fOOxG13gGweD",
        "outputId": "2f5851ec-7b2a-4596-86c1-a2b471687d8e"
      },
      "execution_count": null,
      "outputs": [
        {
          "output_type": "execute_result",
          "data": {
            "text/plain": [
              "9500"
            ]
          },
          "metadata": {},
          "execution_count": 7
        }
      ]
    },
    {
      "cell_type": "code",
      "source": [
        "media = (q_seguranca * s_seguranca + q_docente * s_docente + q_diretoria * s_diretoria) / total_empregados\n",
        "media"
      ],
      "metadata": {
        "colab": {
          "base_uri": "https://localhost:8080/"
        },
        "id": "mUxdeGMuG3Zs",
        "outputId": "49ccdc58-61d3-4128-f453-051226f3f932"
      },
      "execution_count": null,
      "outputs": [
        {
          "output_type": "execute_result",
          "data": {
            "text/plain": [
              "5613.636363636364"
            ]
          },
          "metadata": {},
          "execution_count": 8
        }
      ]
    },
    {
      "cell_type": "markdown",
      "source": [
        "**Receberemos a média de estudantes e precisamos de um algoritmo que execute a análise e decida se esse estudante está Aprovado ou Reprovado, mostrando uma mensagem do resultado. Para ser aprovado, a média precisa ser igual ou superior à 6.0.**"
      ],
      "metadata": {
        "id": "udDxQNWfK2k0"
      }
    },
    {
      "cell_type": "code",
      "source": [
        "media = float(input(\"Digite a média do estudante: \"))\n",
        "if media >= 6.0:\n",
        "  print(\"Aprovado\")\n",
        "else:\n",
        "  print(\"Reprovado\")"
      ],
      "metadata": {
        "id": "znZR3SqmHUSP",
        "outputId": "167ee493-c2fb-482b-a659-b9ed57de954a",
        "colab": {
          "base_uri": "https://localhost:8080/"
        }
      },
      "execution_count": 2,
      "outputs": [
        {
          "output_type": "stream",
          "name": "stdout",
          "text": [
            "Digite a média do estudante: 8\n",
            "Aprovado\n"
          ]
        }
      ]
    },
    {
      "cell_type": "markdown",
      "source": [
        "**A nossa instituição de ensino lançou uma nota oficial: pessoas com média entre 4.0 e 6.0 podem fazer os cursos de Recuperação nas férias e tentar recuperar a nota.Vamos fazer um conjunto de ifs, estruturando essa nova condição.**"
      ],
      "metadata": {
        "id": "uimrfzIPLXov"
      }
    },
    {
      "cell_type": "code",
      "source": [
        "media = float(input(\"Digite a média do estudante: \"))\n",
        "if media >= 6.0:\n",
        "  print(\"Aprovado\")\n",
        "if 6.0 > media >= 4.0:\n",
        "  print(\"Recuperação\")\n",
        "else:\n",
        "  print(\"Reprovado(a)\")"
      ],
      "metadata": {
        "id": "DVHGtagHLGgZ",
        "outputId": "c4f6f2d4-ca76-44b2-9c86-803949f21f81",
        "colab": {
          "base_uri": "https://localhost:8080/"
        }
      },
      "execution_count": 4,
      "outputs": [
        {
          "output_type": "stream",
          "name": "stdout",
          "text": [
            "Digite a média do estudante: 3\n",
            "Reprovado(a)\n"
          ]
        }
      ]
    },
    {
      "cell_type": "code",
      "source": [],
      "metadata": {
        "id": "x2ooSwxTL37i"
      },
      "execution_count": null,
      "outputs": []
    }
  ]
}